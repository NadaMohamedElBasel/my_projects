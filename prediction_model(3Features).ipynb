{
  "nbformat": 4,
  "nbformat_minor": 0,
  "metadata": {
    "colab": {
      "provenance": []
    },
    "kernelspec": {
      "name": "python3",
      "display_name": "Python 3"
    },
    "language_info": {
      "name": "python"
    }
  },
  "cells": [
    {
      "cell_type": "code",
      "execution_count": null,
      "metadata": {
        "id": "ketCquAUdfAg"
      },
      "outputs": [],
      "source": []
    },
    {
      "cell_type": "code",
      "execution_count": null,
      "metadata": {
        "id": "3bthpzNgpne5",
        "colab": {
          "base_uri": "https://localhost:8080/",
          "height": 282
        },
        "outputId": "ba12ad8f-b9ea-45c6-8017-c12c08332e45"
      },
      "outputs": [
        {
          "output_type": "execute_result",
          "data": {
            "text/plain": [
              "<matplotlib.collections.PathCollection at 0x7fadf68cc3d0>"
            ]
          },
          "metadata": {},
          "execution_count": 1
        },
        {
          "output_type": "display_data",
          "data": {
            "text/plain": [
              "<Figure size 432x288 with 1 Axes>"
            ],
            "image/png": "[encoded data removed]"
          },
          "metadata": {
            "needs_background": "light"
          }
        }
      ],
      "source": [
        "import numpy as np\n",
        "import matplotlib.pyplot as plt\n",
        "import pandas as pd \n",
        "%matplotlib inline\n",
        "df=pd.read_csv('/content/Salary.csv')\n",
        "x =df['YearsExperience']\n",
        "x = np.array(x)\n",
        "y = df['Salary']\n",
        "y = np.array(y)\n",
        "plt.scatter(x,y)"
      ]
    },
    {
      "cell_type": "code",
      "source": [],
      "metadata": {
        "id": "yKvaDnfJd5sN"
      },
      "execution_count": null,
      "outputs": []
    },
    {
      "cell_type": "code",
      "source": [
        "def model(a1,a2,a3, b, x):\n",
        " return a1*x+a2*(x**2)+a3*(x**3) + b\n",
        "def loss_function(a1,a2,a3,b, x, y):\n",
        " num = len(x)\n",
        " prediction=model(a1,a2,a3,b,x)\n",
        " return (0.5/num) * (np.square(prediction-y)).sum()\n",
        "def optimize(a1,a2,a3,b,x,y):\n",
        " num = len(x)\n",
        " prediction = model(a1,a2,a3,b,x)\n",
        " da1 = (1.0/num) * ((prediction -y)*x).sum()\n",
        " da2 = (1.0/num) * ((prediction -y)*2*x).sum()\n",
        " da3 = (1.0/num) * ((prediction -y)*3*(x**2)).sum()\n",
        " db = (1.0/num) * ((prediction -y).sum())\n",
        " a1 = a1 - Lr*da1\n",
        " a2 = a2 - Lr*da2\n",
        " a3 = a3 - Lr*da3\n",
        " b = b - Lr*db\n",
        " return a1,a2,a3, b\n",
        "def iterate(a1,a2,a3,b,x,y,times):\n",
        " for i in range(times):\n",
        "  a1,a2,a3,b = optimize(a1,a2,a3,b,x,y)\n",
        " return a1,a2,a3,b"
      ],
      "metadata": {
        "id": "Ihd1BBR3vbPx"
      },
      "execution_count": null,
      "outputs": []
    },
    {
      "cell_type": "code",
      "source": [],
      "metadata": {
        "id": "s1y5NeotejxI"
      },
      "execution_count": null,
      "outputs": []
    },
    {
      "cell_type": "code",
      "source": [
        "a1 = np.random.rand(1)\n",
        "print(a1)\n",
        "a2 = np.random.rand(1)\n",
        "print(a2)\n",
        "a3= np.random.rand(1)\n",
        "print(a3)\n",
        "b = np.random.rand(1)\n",
        "print(b)\n",
        "Lr = 1e-4\n",
        "a1,a2,a3,b = iterate(a1,a2,a3,b,x,y,1)\n",
        "prediction=model(a1,a2,a3,b,x)\n",
        "loss = loss_function(a1,a2,a3, b, x, y)\n",
        "print(a1,a2,a3,b,loss)\n",
        "plt.scatter(x,y)\n",
        "plt.plot(x,prediction)"
      ],
      "metadata": {
        "colab": {
          "base_uri": "https://localhost:8080/",
          "height": 380
        },
        "id": "xkREFJX7v0BV",
        "outputId": "1a9f12bd-9e82-4420-dd48-9f0868cae5e0"
      },
      "execution_count": null,
      "outputs": [
        {
          "output_type": "stream",
          "name": "stdout",
          "text": [
            "[0.42767379]\n",
            "[0.34073886]\n",
            "[0.67262253]\n",
            "[0.68625828]\n",
            "[47.9945636] [95.47451849] [1074.23145105] [8.26607224] 87790751577.76436\n"
          ]
        },
        {
          "output_type": "execute_result",
          "data": {
            "text/plain": [
              "[<matplotlib.lines.Line2D at 0x7fadf58e7f70>]"
            ]
          },
          "metadata": {},
          "execution_count": 6
        },
        {
          "output_type": "display_data",
          "data": {
            "text/plain": [
              "<Figure size 432x288 with 1 Axes>"
            ],
            "image/png": "[encoded data removed]"
          },
          "metadata": {
            "needs_background": "light"
          }
        }
      ]
    },
    {
      "cell_type": "code",
      "source": [],
      "metadata": {
        "id": "aonejvwdfFuQ"
      },
      "execution_count": null,
      "outputs": []
    },
    {
      "cell_type": "code",
      "source": [
        "a1,a2,a3,b = iterate(a1,a2,a3,b,x,y,2)\n",
        "prediction=model(a1,a2,a3,b,x)\n",
        "loss = loss_function(a1,a2,a3, b, x, y)\n",
        "print(a1,a2,a3,b,loss)\n",
        "plt.scatter(x,y)\n",
        "plt.plot(x,prediction)"
      ],
      "metadata": {
        "colab": {
          "base_uri": "https://localhost:8080/",
          "height": 311
        },
        "id": "c8PwKkqZv4-a",
        "outputId": "841944f4-694f-4aa9-d82d-fbb3dcdc85aa"
      },
      "execution_count": null,
      "outputs": [
        {
          "output_type": "stream",
          "name": "stdout",
          "text": [
            "[1056.84681344] [2113.17901816] [27762.53162503] [130.81461482] 77123635625840.27\n"
          ]
        },
        {
          "output_type": "execute_result",
          "data": {
            "text/plain": [
              "[<matplotlib.lines.Line2D at 0x7fadf5855460>]"
            ]
          },
          "metadata": {},
          "execution_count": 7
        },
        {
          "output_type": "display_data",
          "data": {
            "text/plain": [
              "<Figure size 432x288 with 1 Axes>"
            ],
            "image/png": "[encoded data removed]"
          },
          "metadata": {
            "needs_background": "light"
          }
        }
      ]
    },
    {
      "cell_type": "code",
      "source": [],
      "metadata": {
        "id": "wkccbT_SfbLr"
      },
      "execution_count": null,
      "outputs": []
    },
    {
      "cell_type": "code",
      "source": [
        "a1,a2,a3,b = iterate(a1,a2,a3,b,x,y,3)\n",
        "prediction=model(a1,a2,a3,b,x)\n",
        "loss = loss_function(a1,a2,a3, b, x, y)\n",
        "print(a1,a2,a3,b,loss)\n",
        "plt.scatter(x,y)\n",
        "plt.plot(x,prediction)"
      ],
      "metadata": {
        "colab": {
          "base_uri": "https://localhost:8080/",
          "height": 331
        },
        "id": "GT3VrXJrv85t",
        "outputId": "8d0d3bb7-5099-4ee5-c95f-10ab355cb9b7"
      },
      "execution_count": null,
      "outputs": [
        {
          "output_type": "stream",
          "name": "stdout",
          "text": [
            "[-171611.25684819] [-343223.02830509] [-4610085.85990389] [-20159.8864166] 2.1489810400373432e+18\n"
          ]
        },
        {
          "output_type": "execute_result",
          "data": {
            "text/plain": [
              "[<matplotlib.lines.Line2D at 0x7fadf5820af0>]"
            ]
          },
          "metadata": {},
          "execution_count": 8
        },
        {
          "output_type": "display_data",
          "data": {
            "text/plain": [
              "<Figure size 432x288 with 1 Axes>"
            ],
            "image/png": "[encoded data removed]"
          },
          "metadata": {
            "needs_background": "light"
          }
        }
      ]
    },
    {
      "cell_type": "code",
      "source": [],
      "metadata": {
        "id": "JJGRTCztfpzv"
      },
      "execution_count": null,
      "outputs": []
    },
    {
      "cell_type": "code",
      "source": [
        "a1,a2,a3,b = iterate(a1,a2,a3,b,x,y,4)\n",
        "prediction=model(a1,a2,a3,b,x)\n",
        "loss = loss_function(a1,a2,a3, b, x, y)\n",
        "print(a1,a2,a3,b,loss)\n",
        "plt.scatter(x,y)\n",
        "plt.plot(x,prediction)"
      ],
      "metadata": {
        "colab": {
          "base_uri": "https://localhost:8080/",
          "height": 331
        },
        "id": "6nGmDmprwAc9",
        "outputId": "1d48915b-0063-4eb6-d30d-00e2e1dc5872"
      },
      "execution_count": null,
      "outputs": [
        {
          "output_type": "stream",
          "name": "stdout",
          "text": [
            "[-1.57901975e+08] [-3.1580395e+08] [-4.24068145e+09] [-18560870.01773972] 1.8182754269267407e+24\n"
          ]
        },
        {
          "output_type": "execute_result",
          "data": {
            "text/plain": [
              "[<matplotlib.lines.Line2D at 0x7fadf5747970>]"
            ]
          },
          "metadata": {},
          "execution_count": 9
        },
        {
          "output_type": "display_data",
          "data": {
            "text/plain": [
              "<Figure size 432x288 with 1 Axes>"
            ],
            "image/png": "[encoded data removed]"
          },
          "metadata": {
            "needs_background": "light"
          }
        }
      ]
    },
    {
      "cell_type": "code",
      "source": [],
      "metadata": {
        "id": "NfZ15c2zf4U4"
      },
      "execution_count": null,
      "outputs": []
    },
    {
      "cell_type": "code",
      "source": [
        "a1,a2,a3,b = iterate(a1,a2,a3,b,x,y,5)\n",
        "prediction=model(a1,a2,a3,b,x)\n",
        "loss = loss_function(a1,a2,a3, b, x, y)\n",
        "print(a1,a2,a3,b,loss)\n",
        "plt.scatter(x,y)\n",
        "plt.plot(x,prediction)"
      ],
      "metadata": {
        "colab": {
          "base_uri": "https://localhost:8080/",
          "height": 331
        },
        "id": "s7R4kazNwD-p",
        "outputId": "4884c70d-b000-452c-e255-0bef511d5c34"
      },
      "execution_count": null,
      "outputs": [
        {
          "output_type": "stream",
          "name": "stdout",
          "text": [
            "[7.99885475e+11] [1.59977095e+12] [2.14820485e+13] [9.40240714e+10] 4.665946189089655e+31\n"
          ]
        },
        {
          "output_type": "execute_result",
          "data": {
            "text/plain": [
              "[<matplotlib.lines.Line2D at 0x7fadf571c910>]"
            ]
          },
          "metadata": {},
          "execution_count": 10
        },
        {
          "output_type": "display_data",
          "data": {
            "text/plain": [
              "<Figure size 432x288 with 1 Axes>"
            ],
            "image/png": "[encoded data removed]"
          },
          "metadata": {
            "needs_background": "light"
          }
        }
      ]
    },
    {
      "cell_type": "code",
      "source": [],
      "metadata": {
        "id": "jg2jYMNfgE75"
      },
      "execution_count": null,
      "outputs": []
    },
    {
      "cell_type": "code",
      "source": [
        "a1,a2,a3,b = iterate(a1,a2,a3,b,x,y,100)\n",
        "prediction=model(a1,a2,a3,b,x)\n",
        "loss = loss_function(a1,a2,a3, b, x, y)\n",
        "print(a1,a2,a3,b,loss)\n",
        "plt.scatter(x,y)\n",
        "plt.plot(x,prediction)"
      ],
      "metadata": {
        "colab": {
          "base_uri": "https://localhost:8080/",
          "height": 331
        },
        "outputId": "37e80378-c34f-41c4-80ee-2795b167a68a",
        "id": "LTToFNdqcgDW"
      },
      "execution_count": null,
      "outputs": [
        {
          "output_type": "stream",
          "name": "stdout",
          "text": [
            "[9.90440389e+85] [1.98088078e+86] [2.65996684e+87] [1.16423214e+85] 7.153865796477414e+179\n"
          ]
        },
        {
          "output_type": "execute_result",
          "data": {
            "text/plain": [
              "[<matplotlib.lines.Line2D at 0x7fadf567c700>]"
            ]
          },
          "metadata": {},
          "execution_count": 11
        },
        {
          "output_type": "display_data",
          "data": {
            "text/plain": [
              "<Figure size 432x288 with 1 Axes>"
            ],
            "image/png": "[encoded data removed]"
          },
          "metadata": {
            "needs_background": "light"
          }
        }
      ]
    },
    {
      "cell_type": "code",
      "source": [],
      "metadata": {
        "id": "SMoRFJJ3gP-V"
      },
      "execution_count": null,
      "outputs": []
    },
    {
      "cell_type": "code",
      "source": [
        "a1,a2,a3,b = iterate(a1,a2,a3,b,x,y,1000)\n",
        "prediction=model(a1,a2,a3,b,x)\n",
        "loss = loss_function(a1,a2,a3, b, x, y)\n",
        "print(a1,a2,a3,b,loss)\n",
        "plt.scatter(x,y)\n",
        "plt.plot(x,prediction)"
      ],
      "metadata": {
        "colab": {
          "base_uri": "https://localhost:8080/",
          "height": 389
        },
        "outputId": "f6b0c038-dabd-44b6-c0a8-937bf70a3eda",
        "id": "MOjjxqrKgQt4"
      },
      "execution_count": null,
      "outputs": [
        {
          "output_type": "stream",
          "name": "stdout",
          "text": [
            "[nan] [nan] [nan] [nan] nan\n"
          ]
        },
        {
          "output_type": "stream",
          "name": "stderr",
          "text": [
            "/usr/local/lib/python3.8/dist-packages/numpy/core/_methods.py:48: RuntimeWarning: overflow encountered in reduce\n",
            "  return umr_sum(a, axis, dtype, out, keepdims, initial, where)\n",
            "<ipython-input-5-c4551fd478b5>:16: RuntimeWarning: invalid value encountered in subtract\n",
            "  a3 = a3 - Lr*da3\n"
          ]
        },
        {
          "output_type": "execute_result",
          "data": {
            "text/plain": [
              "[<matplotlib.lines.Line2D at 0x7fadf56579d0>]"
            ]
          },
          "metadata": {},
          "execution_count": 12
        },
        {
          "output_type": "display_data",
          "data": {
            "text/plain": [
              "<Figure size 432x288 with 1 Axes>"
            ],
            "image/png": "[encoded data removed]"
          },
          "metadata": {
            "needs_background": "light"
          }
        }
      ]
    },
    {
      "cell_type": "code",
      "source": [],
      "metadata": {
        "id": "15CWdTcrgVH1"
      },
      "execution_count": null,
      "outputs": []
    },
    {
      "cell_type": "code",
      "source": [
        "a1,a2,a3,b = iterate(a1,a2,a3,b,x,y,10000)\n",
        "prediction=model(a1,a2,a3,b,x)\n",
        "loss = loss_function(a1,a2,a3, b, x, y)\n",
        "print(a1,a2,a3,b,loss)\n",
        "plt.scatter(x,y)\n",
        "plt.plot(x,prediction)"
      ],
      "metadata": {
        "colab": {
          "base_uri": "https://localhost:8080/",
          "height": 300
        },
        "outputId": "a8177124-de52-4a12-c6b5-95af28cb6039",
        "id": "Ie07t07egVt7"
      },
      "execution_count": null,
      "outputs": [
        {
          "output_type": "stream",
          "name": "stdout",
          "text": [
            "[nan] [nan] [nan] [nan] nan\n"
          ]
        },
        {
          "output_type": "execute_result",
          "data": {
            "text/plain": [
              "[<matplotlib.lines.Line2D at 0x7fadf5627fd0>]"
            ]
          },
          "metadata": {},
          "execution_count": 13
        },
        {
          "output_type": "display_data",
          "data": {
            "text/plain": [
              "<Figure size 432x288 with 1 Axes>"
            ],
            "image/png": "[encoded data removed]"
          },
          "metadata": {
            "needs_background": "light"
          }
        }
      ]
    }
  ]
}