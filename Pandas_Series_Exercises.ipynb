{
  "cells": [
    {
      "cell_type": "markdown",
      "id": "298b25f1",
      "metadata": {
        "id": "298b25f1"
      },
      "source": [
        "# Pandas (series)"
      ]
    },
    {
      "cell_type": "markdown",
      "id": "b16f4eba",
      "metadata": {
        "id": "b16f4eba"
      },
      "source": [
        "## import Numpy and pandas?"
      ]
    },
    {
      "cell_type": "code",
      "execution_count": null,
      "id": "1a1dc058",
      "metadata": {
        "id": "1a1dc058"
      },
      "outputs": [],
      "source": [
        "import numpy as np \n",
        "import pandas as pd "
      ]
    },
    {
      "cell_type": "code",
      "execution_count": null,
      "id": "a2085afc",
      "metadata": {
        "id": "a2085afc"
      },
      "outputs": [],
      "source": [
        "name = ['marwa', 'nada', 'asmaa']\n",
        "degree = [85, 90, 97]"
      ]
    },
    {
      "cell_type": "markdown",
      "id": "2a3f8059",
      "metadata": {
        "id": "2a3f8059"
      },
      "source": [
        "# `Create` on Pandas Series "
      ]
    },
    {
      "cell_type": "markdown",
      "id": "8ef22907",
      "metadata": {
        "id": "8ef22907"
      },
      "source": [
        "## Create a `Series` using `list` \"degree\" ?"
      ]
    },
    {
      "cell_type": "code",
      "execution_count": null,
      "id": "7d28074f",
      "metadata": {
        "id": "7d28074f",
        "outputId": "4eb06878-8150-4d0b-a26a-74f1161aa9fe",
        "colab": {
          "base_uri": "https://localhost:8080/"
        }
      },
      "outputs": [
        {
          "output_type": "execute_result",
          "data": {
            "text/plain": [
              "0    85\n",
              "1    90\n",
              "2    97\n",
              "dtype: int64"
            ]
          },
          "metadata": {},
          "execution_count": 34
        }
      ],
      "source": [
        "pd.Series(degree)"
      ]
    },
    {
      "cell_type": "markdown",
      "id": "e769a396",
      "metadata": {
        "id": "e769a396"
      },
      "source": [
        "## Create a `Series` using `Array` \"deg_array\" ?"
      ]
    },
    {
      "cell_type": "code",
      "execution_count": null,
      "id": "a9ff8df0",
      "metadata": {
        "id": "a9ff8df0",
        "outputId": "c409f0cc-9355-4573-c1c9-8c416f1704fb",
        "colab": {
          "base_uri": "https://localhost:8080/"
        }
      },
      "outputs": [
        {
          "output_type": "execute_result",
          "data": {
            "text/plain": [
              "0    85\n",
              "1    90\n",
              "2    97\n",
              "dtype: int64"
            ]
          },
          "metadata": {},
          "execution_count": 8
        }
      ],
      "source": [
        "deg_array=np.array(degree)\n",
        "pd.Series(deg_array)"
      ]
    },
    {
      "cell_type": "markdown",
      "id": "49036fb6",
      "metadata": {
        "id": "49036fb6"
      },
      "source": [
        "## Create a `Series` using `Dictionary` \"deg_dic\" ?"
      ]
    },
    {
      "cell_type": "code",
      "execution_count": null,
      "id": "71ab27d3",
      "metadata": {
        "id": "71ab27d3",
        "outputId": "6792b12b-95be-4fac-9bcf-166d63b3e56a",
        "colab": {
          "base_uri": "https://localhost:8080/"
        }
      },
      "outputs": [
        {
          "output_type": "execute_result",
          "data": {
            "text/plain": [
              "{'asmaa': 97, 'marwa': 85, 'nada': 90}"
            ]
          },
          "metadata": {},
          "execution_count": 10
        }
      ],
      "source": [
        "\n",
        "deg_dic={name[i]:degree[i] for i in range (len(name))}\n",
        "deg_dic"
      ]
    },
    {
      "cell_type": "code",
      "execution_count": null,
      "id": "71890fb3",
      "metadata": {
        "scrolled": true,
        "id": "71890fb3",
        "outputId": "980bd6ff-0655-4027-fd84-d5d3cbe39ca0",
        "colab": {
          "base_uri": "https://localhost:8080/"
        }
      },
      "outputs": [
        {
          "output_type": "execute_result",
          "data": {
            "text/plain": [
              "marwa    85\n",
              "nada     90\n",
              "asmaa    97\n",
              "dtype: int64"
            ]
          },
          "metadata": {},
          "execution_count": 12
        }
      ],
      "source": [
        "pd.Series(deg_dic)"
      ]
    },
    {
      "cell_type": "markdown",
      "id": "972b22e3",
      "metadata": {
        "id": "972b22e3"
      },
      "source": [
        "## Create a `Series` using `Lists` data=\"degree\" , index=\"name\" ?"
      ]
    },
    {
      "cell_type": "code",
      "execution_count": null,
      "id": "c6897bae",
      "metadata": {
        "scrolled": true,
        "colab": {
          "base_uri": "https://localhost:8080/"
        },
        "id": "c6897bae",
        "outputId": "9896963a-d22f-4c28-f1dc-6175ed126955"
      },
      "outputs": [
        {
          "output_type": "execute_result",
          "data": {
            "text/plain": [
              "marwa    85\n",
              "nada     90\n",
              "asmaa    97\n",
              "dtype: int64"
            ]
          },
          "metadata": {},
          "execution_count": 16
        }
      ],
      "source": [
        "pd.Series(degree,index=name)"
      ]
    },
    {
      "cell_type": "markdown",
      "id": "a09b86b0",
      "metadata": {
        "id": "a09b86b0"
      },
      "source": [
        "# `Operations` on Pandas Series "
      ]
    },
    {
      "cell_type": "code",
      "execution_count": null,
      "id": "f86bcd95",
      "metadata": {
        "id": "f86bcd95",
        "outputId": "8030728f-e395-43b3-8af6-8b8e67c7f06c",
        "colab": {
          "base_uri": "https://localhost:8080/"
        }
      },
      "outputs": [
        {
          "output_type": "execute_result",
          "data": {
            "text/plain": [
              "Mohamed    100\n",
              "Yousef      90\n",
              "Mahmoud     85\n",
              "Aya         75\n",
              "Alaa        95\n",
              "Sarah       90\n",
              "dtype: int64"
            ]
          },
          "metadata": {},
          "execution_count": 4
        }
      ],
      "source": [
        "names=['Mohamed','Yousef','Mahmoud','Aya','Alaa','Sarah']\n",
        "degrees=[100,90,85,75,95,90]\n",
        "ser1=pd.Series(degrees,index=names)\n",
        "ser1"
      ]
    },
    {
      "cell_type": "markdown",
      "id": "c5bf9e82",
      "metadata": {
        "id": "c5bf9e82"
      },
      "source": [
        "## Get `degree` of \"Mohamed\" ?"
      ]
    },
    {
      "cell_type": "code",
      "execution_count": null,
      "id": "0437b45a",
      "metadata": {
        "id": "0437b45a",
        "outputId": "4f87c28f-ce0f-487d-cdcb-bec47f812293",
        "colab": {
          "base_uri": "https://localhost:8080/"
        }
      },
      "outputs": [
        {
          "output_type": "execute_result",
          "data": {
            "text/plain": [
              "100"
            ]
          },
          "metadata": {},
          "execution_count": 43
        }
      ],
      "source": [
        "\n",
        "ser1['Mohamed']"
      ]
    },
    {
      "cell_type": "markdown",
      "id": "afa68022",
      "metadata": {
        "id": "afa68022"
      },
      "source": [
        "## Get `percentage for degree` of \"Alaa\" ?"
      ]
    },
    {
      "cell_type": "code",
      "execution_count": null,
      "id": "65cda86b",
      "metadata": {
        "id": "65cda86b",
        "outputId": "75c3c186-af74-4cd1-ba7b-932b1d863e2d",
        "colab": {
          "base_uri": "https://localhost:8080/"
        }
      },
      "outputs": [
        {
          "output_type": "execute_result",
          "data": {
            "text/plain": [
              "0.95"
            ]
          },
          "metadata": {},
          "execution_count": 44
        }
      ],
      "source": [
        "ser1['Alaa']/100"
      ]
    },
    {
      "cell_type": "markdown",
      "id": "a7a28788",
      "metadata": {
        "id": "a7a28788"
      },
      "source": [
        "## Who those got degrees `above from 90` ?"
      ]
    },
    {
      "cell_type": "code",
      "execution_count": null,
      "id": "7bcd5c4a",
      "metadata": {
        "id": "7bcd5c4a",
        "outputId": "640dbda8-f74a-44fa-eef0-6828e3d88224",
        "colab": {
          "base_uri": "https://localhost:8080/"
        }
      },
      "outputs": [
        {
          "output_type": "execute_result",
          "data": {
            "text/plain": [
              "Mohamed    100.0\n",
              "Yousef       NaN\n",
              "Mahmoud      NaN\n",
              "Aya          NaN\n",
              "Alaa        95.0\n",
              "Sarah        NaN\n",
              "dtype: float64"
            ]
          },
          "metadata": {},
          "execution_count": 50
        }
      ],
      "source": [
        "ser1.where(ser1>90)"
      ]
    },
    {
      "cell_type": "markdown",
      "id": "8a2b2129",
      "metadata": {
        "id": "8a2b2129"
      },
      "source": [
        "## Who got the `Max` of degrees?"
      ]
    },
    {
      "cell_type": "code",
      "execution_count": null,
      "id": "1ed6e300",
      "metadata": {
        "colab": {
          "base_uri": "https://localhost:8080/"
        },
        "id": "1ed6e300",
        "outputId": "7003495d-f246-489f-a361-05d0912b4ad3"
      },
      "outputs": [
        {
          "output_type": "execute_result",
          "data": {
            "text/plain": [
              "Mohamed    100.0\n",
              "Yousef       NaN\n",
              "Mahmoud      NaN\n",
              "Aya          NaN\n",
              "Alaa         NaN\n",
              "Sarah        NaN\n",
              "dtype: float64"
            ]
          },
          "metadata": {},
          "execution_count": 52
        }
      ],
      "source": [
        "ser1.where(ser1==np.max(degrees))"
      ]
    },
    {
      "cell_type": "markdown",
      "id": "6d858946",
      "metadata": {
        "id": "6d858946"
      },
      "source": [
        "## Who got the `Min` of degree?"
      ]
    },
    {
      "cell_type": "code",
      "execution_count": null,
      "id": "5a38e8a3",
      "metadata": {
        "id": "5a38e8a3",
        "outputId": "f741f5d6-b8d2-4d0f-8716-0bf5ea0bd0f0",
        "colab": {
          "base_uri": "https://localhost:8080/"
        }
      },
      "outputs": [
        {
          "output_type": "execute_result",
          "data": {
            "text/plain": [
              "Mohamed     NaN\n",
              "Yousef      NaN\n",
              "Mahmoud     NaN\n",
              "Aya        75.0\n",
              "Alaa        NaN\n",
              "Sarah       NaN\n",
              "dtype: float64"
            ]
          },
          "metadata": {},
          "execution_count": 53
        }
      ],
      "source": [
        "ser1.where(ser1==np.min(degrees))"
      ]
    },
    {
      "cell_type": "markdown",
      "id": "d7b55826",
      "metadata": {
        "id": "d7b55826"
      },
      "source": [
        "## Get a the `Mean` of degrees?"
      ]
    },
    {
      "cell_type": "code",
      "execution_count": null,
      "id": "487c6d36",
      "metadata": {
        "id": "487c6d36",
        "outputId": "fedda980-c7ae-46f0-ad44-993b501e6612",
        "colab": {
          "base_uri": "https://localhost:8080/"
        }
      },
      "outputs": [
        {
          "output_type": "execute_result",
          "data": {
            "text/plain": [
              "89.16666666666667"
            ]
          },
          "metadata": {},
          "execution_count": 54
        }
      ],
      "source": [
        "np.mean(degrees)"
      ]
    },
    {
      "cell_type": "markdown",
      "id": "835c0c5a",
      "metadata": {
        "id": "835c0c5a"
      },
      "source": [
        "## Get a the `Median` of degrees?"
      ]
    },
    {
      "cell_type": "code",
      "execution_count": null,
      "id": "48bad47a",
      "metadata": {
        "id": "48bad47a",
        "outputId": "a31818f6-8e95-447c-fc39-78d3b2b75017",
        "colab": {
          "base_uri": "https://localhost:8080/"
        }
      },
      "outputs": [
        {
          "output_type": "execute_result",
          "data": {
            "text/plain": [
              "90.0"
            ]
          },
          "metadata": {},
          "execution_count": 55
        }
      ],
      "source": [
        "np.median(degrees)"
      ]
    },
    {
      "cell_type": "markdown",
      "id": "85af03ee",
      "metadata": {
        "id": "85af03ee"
      },
      "source": [
        "## Get a degree `most frequent` ?"
      ]
    },
    {
      "cell_type": "code",
      "execution_count": null,
      "id": "c893b85d",
      "metadata": {
        "id": "c893b85d",
        "outputId": "d84cc5fb-d0b0-4fee-b3ce-dd276263a4b3",
        "colab": {
          "base_uri": "https://localhost:8080/"
        }
      },
      "outputs": [
        {
          "output_type": "execute_result",
          "data": {
            "text/plain": [
              "90"
            ]
          },
          "metadata": {},
          "execution_count": 56
        }
      ],
      "source": [
        "np.bincount(degrees).argmax()"
      ]
    },
    {
      "cell_type": "markdown",
      "id": "845186b2",
      "metadata": {
        "id": "845186b2"
      },
      "source": [
        "## Get a the `standard deviation` of degrees?"
      ]
    },
    {
      "cell_type": "code",
      "execution_count": null,
      "id": "3d972982",
      "metadata": {
        "id": "3d972982",
        "outputId": "100e3039-6462-4348-a4af-dac826289544",
        "colab": {
          "base_uri": "https://localhost:8080/"
        }
      },
      "outputs": [
        {
          "output_type": "execute_result",
          "data": {
            "text/plain": [
              "7.8616509433805035"
            ]
          },
          "metadata": {},
          "execution_count": 57
        }
      ],
      "source": [
        "np.std(degrees)"
      ]
    },
    {
      "cell_type": "markdown",
      "id": "f926ce44",
      "metadata": {
        "id": "f926ce44"
      },
      "source": [
        "## Get a degrees  in `List`?"
      ]
    },
    {
      "cell_type": "code",
      "execution_count": null,
      "id": "197905a0",
      "metadata": {
        "id": "197905a0",
        "outputId": "201de919-893f-453c-c179-0ae9f800444f",
        "colab": {
          "base_uri": "https://localhost:8080/"
        }
      },
      "outputs": [
        {
          "output_type": "execute_result",
          "data": {
            "text/plain": [
              "[100, 90, 85, 75, 95, 90]"
            ]
          },
          "metadata": {},
          "execution_count": 5
        }
      ],
      "source": [
        "degrees"
      ]
    },
    {
      "cell_type": "markdown",
      "id": "5d4f11c4",
      "metadata": {
        "id": "5d4f11c4"
      },
      "source": [
        "# Good Job"
      ]
    }
  ],
  "metadata": {
    "hide_input": false,
    "interpreter": {
      "hash": "3165eb73e81506be9642a860ceb367db037d914c8edf1ce15dd258b028b64a1e"
    },
    "kernelspec": {
      "display_name": "Python 3 (ipykernel)",
      "language": "python",
      "name": "python3"
    },
    "language_info": {
      "codemirror_mode": {
        "name": "ipython",
        "version": 3
      },
      "file_extension": ".py",
      "mimetype": "text/x-python",
      "name": "python",
      "nbconvert_exporter": "python",
      "pygments_lexer": "ipython3",
      "version": "3.9.7"
    },
    "colab": {
      "provenance": []
    }
  },
  "nbformat": 4,
  "nbformat_minor": 5
}