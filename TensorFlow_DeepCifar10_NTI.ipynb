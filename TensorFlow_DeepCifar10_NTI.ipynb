{
  "nbformat": 4,
  "nbformat_minor": 0,
  "metadata": {
    "colab": {
      "provenance": []
    },
    "kernelspec": {
      "name": "python3",
      "display_name": "Python 3"
    },
    "language_info": {
      "name": "python"
    },
    "accelerator": "GPU",
    "gpuClass": "standard"
  },
  "cells": [
    {
      "cell_type": "code",
      "execution_count": null,
      "metadata": {
        "id": "-DeP4sHeoeSQ"
      },
      "outputs": [],
      "source": [
        "import numpy as np \n",
        "import matplotlib.pyplot as plt \n",
        "from tensorflow import keras\n",
        "import tensorflow as tf \n",
        "\n"
      ]
    },
    {
      "cell_type": "code",
      "source": [
        "cifar=tf.keras.datasets.cifar10\n",
        "(x_train,y_train),(x_test,y_test)=cifar.load_data()\n",
        "print(x_train.shape,y_train.shape)"
      ],
      "metadata": {
        "colab": {
          "base_uri": "https://localhost:8080/"
        },
        "id": "FQmb2UIRqBB4",
        "outputId": "2946a4db-fab0-4a2d-9060-be8555907125"
      },
      "execution_count": null,
      "outputs": [
        {
          "output_type": "stream",
          "name": "stdout",
          "text": [
            "(50000, 32, 32, 3) (50000, 1)\n"
          ]
        }
      ]
    },
    {
      "cell_type": "code",
      "source": [
        "x_train_final=x_train.reshape((-1,32*32*3))\n",
        "x_train_final=x_train_final/255"
      ],
      "metadata": {
        "id": "3dR03BCqrW5w"
      },
      "execution_count": null,
      "outputs": []
    },
    {
      "cell_type": "code",
      "source": [
        "x_test_final=x_test.reshape((-1,32*32*3))\n",
        "x_test_final=x_test_final/255"
      ],
      "metadata": {
        "id": "kuYILyX2rmUB"
      },
      "execution_count": null,
      "outputs": []
    },
    {
      "cell_type": "code",
      "source": [
        "np.unique(y_train)"
      ],
      "metadata": {
        "colab": {
          "base_uri": "https://localhost:8080/"
        },
        "id": "1ltOS4M2LZkz",
        "outputId": "6363b305-8532-4d4e-baf3-364fd6df349c"
      },
      "execution_count": null,
      "outputs": [
        {
          "output_type": "execute_result",
          "data": {
            "text/plain": [
              "array([0, 1, 2, 3, 4, 5, 6, 7, 8, 9], dtype=uint8)"
            ]
          },
          "metadata": {},
          "execution_count": 5
        }
      ]
    },
    {
      "cell_type": "code",
      "source": [
        "model=keras.Sequential()\n",
        "model.add(keras.layers.Dense(10000,input_shape=(32*32*3,),activation=\"relu\"))\n",
        "#model.add(keras.layers.Dense(2048,activation=\"relu\"))\n",
        "#model.add(keras.layers.Dense(1024,activation=\"relu\"))\n",
        "#model.add(keras.layers.Dense(512,activation=\"relu\"))\n",
        "#model.add(keras.layers.Dense(256,activation=\"relu\"))\n",
        "#model.add(keras.layers.Dense(128,activation=\"relu\"))\n",
        "#model.add(keras.layers.Dense(64,activation=\"relu\"))\n",
        "#model.add(keras.layers.Dense(32,activation=\"relu\"))\n",
        "model.add(keras.layers.Dense(10,activation=\"softmax\"))\n",
        "model.summary()"
      ],
      "metadata": {
        "colab": {
          "base_uri": "https://localhost:8080/"
        },
        "id": "ZUlA9rrAsWVN",
        "outputId": "9b7836ce-8d1e-416b-b13c-95699407ce00"
      },
      "execution_count": null,
      "outputs": [
        {
          "output_type": "stream",
          "name": "stdout",
          "text": [
            "Model: \"sequential\"\n",
            "_________________________________________________________________\n",
            " Layer (type)                Output Shape              Param #   \n",
            "=================================================================\n",
            " dense (Dense)               (None, 10000)             30730000  \n",
            "                                                                 \n",
            " dense_1 (Dense)             (None, 10)                100010    \n",
            "                                                                 \n",
            "=================================================================\n",
            "Total params: 30,830,010\n",
            "Trainable params: 30,830,010\n",
            "Non-trainable params: 0\n",
            "_________________________________________________________________\n"
          ]
        }
      ]
    },
    {
      "cell_type": "code",
      "source": [
        "model.compile(optimizer='sgd',loss='sparse_categorical_crossentropy',metrics=['accuracy'])"
      ],
      "metadata": {
        "id": "QoHHeUNzta01"
      },
      "execution_count": null,
      "outputs": []
    },
    {
      "cell_type": "code",
      "source": [
        "results=model.fit(x=x_train_final,y=y_train,shuffle=True,epochs=50,batch_size=32,validation_data=(x_test_final,y_test),verbose=1)"
      ],
      "metadata": {
        "colab": {
          "base_uri": "https://localhost:8080/"
        },
        "id": "MDK6tDQ_tu55",
        "outputId": "50599a28-3b53-4fe9-84d9-a78a1045cded"
      },
      "execution_count": null,
      "outputs": [
        {
          "output_type": "stream",
          "name": "stdout",
          "text": [
            "Epoch 1/50\n",
            "1563/1563 [==============================] - 14s 8ms/step - loss: 1.8202 - accuracy: 0.3569 - val_loss: 1.6942 - val_accuracy: 0.3980\n",
            "Epoch 2/50\n",
            "1563/1563 [==============================] - 8s 5ms/step - loss: 1.6358 - accuracy: 0.4272 - val_loss: 1.6030 - val_accuracy: 0.4376\n",
            "Epoch 3/50\n",
            "1563/1563 [==============================] - 8s 5ms/step - loss: 1.5591 - accuracy: 0.4541 - val_loss: 1.5581 - val_accuracy: 0.4498\n",
            "Epoch 4/50\n",
            "1563/1563 [==============================] - 8s 5ms/step - loss: 1.5034 - accuracy: 0.4750 - val_loss: 1.5194 - val_accuracy: 0.4542\n",
            "Epoch 5/50\n",
            "1563/1563 [==============================] - 9s 6ms/step - loss: 1.4590 - accuracy: 0.4919 - val_loss: 1.5110 - val_accuracy: 0.4631\n",
            "Epoch 6/50\n",
            "1563/1563 [==============================] - 9s 6ms/step - loss: 1.4213 - accuracy: 0.5046 - val_loss: 1.4599 - val_accuracy: 0.4884\n",
            "Epoch 7/50\n",
            "1563/1563 [==============================] - 9s 6ms/step - loss: 1.3876 - accuracy: 0.5175 - val_loss: 1.5035 - val_accuracy: 0.4648\n",
            "Epoch 8/50\n",
            "1563/1563 [==============================] - 8s 5ms/step - loss: 1.3565 - accuracy: 0.5302 - val_loss: 1.4186 - val_accuracy: 0.5051\n",
            "Epoch 9/50\n",
            "1563/1563 [==============================] - 9s 6ms/step - loss: 1.3309 - accuracy: 0.5375 - val_loss: 1.4348 - val_accuracy: 0.4826\n",
            "Epoch 10/50\n",
            "1563/1563 [==============================] - 9s 6ms/step - loss: 1.3053 - accuracy: 0.5470 - val_loss: 1.4240 - val_accuracy: 0.4993\n",
            "Epoch 11/50\n",
            "1563/1563 [==============================] - 9s 6ms/step - loss: 1.2799 - accuracy: 0.5570 - val_loss: 1.3936 - val_accuracy: 0.5008\n",
            "Epoch 12/50\n",
            "1563/1563 [==============================] - 9s 6ms/step - loss: 1.2563 - accuracy: 0.5650 - val_loss: 1.3882 - val_accuracy: 0.5141\n",
            "Epoch 13/50\n",
            "1563/1563 [==============================] - 9s 6ms/step - loss: 1.2363 - accuracy: 0.5721 - val_loss: 1.4152 - val_accuracy: 0.5044\n",
            "Epoch 14/50\n",
            "1563/1563 [==============================] - 8s 5ms/step - loss: 1.2147 - accuracy: 0.5808 - val_loss: 1.4597 - val_accuracy: 0.4841\n",
            "Epoch 15/50\n",
            "1563/1563 [==============================] - 9s 6ms/step - loss: 1.1946 - accuracy: 0.5871 - val_loss: 1.4026 - val_accuracy: 0.5096\n",
            "Epoch 16/50\n",
            "1563/1563 [==============================] - 9s 6ms/step - loss: 1.1743 - accuracy: 0.5938 - val_loss: 1.4249 - val_accuracy: 0.4968\n",
            "Epoch 17/50\n",
            "1563/1563 [==============================] - 8s 5ms/step - loss: 1.1557 - accuracy: 0.6019 - val_loss: 1.4005 - val_accuracy: 0.5080\n",
            "Epoch 18/50\n",
            "1563/1563 [==============================] - 8s 5ms/step - loss: 1.1359 - accuracy: 0.6093 - val_loss: 1.3513 - val_accuracy: 0.5193\n",
            "Epoch 19/50\n",
            "1563/1563 [==============================] - 8s 5ms/step - loss: 1.1207 - accuracy: 0.6159 - val_loss: 1.3317 - val_accuracy: 0.5306\n",
            "Epoch 20/50\n",
            "1563/1563 [==============================] - 9s 6ms/step - loss: 1.1018 - accuracy: 0.6229 - val_loss: 1.4265 - val_accuracy: 0.5023\n",
            "Epoch 21/50\n",
            "1563/1563 [==============================] - 8s 5ms/step - loss: 1.0839 - accuracy: 0.6288 - val_loss: 1.3668 - val_accuracy: 0.5172\n",
            "Epoch 22/50\n",
            "1563/1563 [==============================] - 9s 6ms/step - loss: 1.0647 - accuracy: 0.6321 - val_loss: 1.3804 - val_accuracy: 0.5140\n",
            "Epoch 23/50\n",
            "1563/1563 [==============================] - 9s 6ms/step - loss: 1.0472 - accuracy: 0.6413 - val_loss: 1.6443 - val_accuracy: 0.4400\n",
            "Epoch 24/50\n",
            "1563/1563 [==============================] - 8s 5ms/step - loss: 1.0289 - accuracy: 0.6470 - val_loss: 1.3469 - val_accuracy: 0.5252\n",
            "Epoch 25/50\n",
            "1563/1563 [==============================] - 8s 5ms/step - loss: 1.0140 - accuracy: 0.6523 - val_loss: 1.3474 - val_accuracy: 0.5253\n",
            "Epoch 26/50\n",
            "1563/1563 [==============================] - 9s 5ms/step - loss: 0.9974 - accuracy: 0.6589 - val_loss: 1.3656 - val_accuracy: 0.5212\n",
            "Epoch 27/50\n",
            "1563/1563 [==============================] - 9s 5ms/step - loss: 0.9821 - accuracy: 0.6647 - val_loss: 1.3613 - val_accuracy: 0.5232\n",
            "Epoch 28/50\n",
            "1563/1563 [==============================] - 9s 5ms/step - loss: 0.9623 - accuracy: 0.6719 - val_loss: 1.3741 - val_accuracy: 0.5261\n",
            "Epoch 29/50\n",
            "1563/1563 [==============================] - 9s 6ms/step - loss: 0.9495 - accuracy: 0.6758 - val_loss: 1.3851 - val_accuracy: 0.5186\n",
            "Epoch 30/50\n",
            "1563/1563 [==============================] - 9s 6ms/step - loss: 0.9302 - accuracy: 0.6838 - val_loss: 1.3953 - val_accuracy: 0.5240\n",
            "Epoch 31/50\n",
            "1563/1563 [==============================] - 9s 5ms/step - loss: 0.9132 - accuracy: 0.6886 - val_loss: 1.3345 - val_accuracy: 0.5301\n",
            "Epoch 32/50\n",
            "1563/1563 [==============================] - 8s 5ms/step - loss: 0.9003 - accuracy: 0.6926 - val_loss: 1.3679 - val_accuracy: 0.5248\n",
            "Epoch 33/50\n",
            "1563/1563 [==============================] - 9s 6ms/step - loss: 0.8841 - accuracy: 0.7006 - val_loss: 1.4438 - val_accuracy: 0.5042\n",
            "Epoch 34/50\n",
            "1563/1563 [==============================] - 8s 5ms/step - loss: 0.8694 - accuracy: 0.7061 - val_loss: 1.4343 - val_accuracy: 0.5007\n",
            "Epoch 35/50\n",
            "1563/1563 [==============================] - 8s 5ms/step - loss: 0.8546 - accuracy: 0.7107 - val_loss: 1.3266 - val_accuracy: 0.5449\n",
            "Epoch 36/50\n",
            "1563/1563 [==============================] - 8s 5ms/step - loss: 0.8373 - accuracy: 0.7173 - val_loss: 1.3653 - val_accuracy: 0.5405\n",
            "Epoch 37/50\n",
            "1563/1563 [==============================] - 8s 5ms/step - loss: 0.8211 - accuracy: 0.7242 - val_loss: 1.5287 - val_accuracy: 0.4776\n",
            "Epoch 38/50\n",
            "1563/1563 [==============================] - 9s 6ms/step - loss: 0.8089 - accuracy: 0.7278 - val_loss: 1.3524 - val_accuracy: 0.5399\n",
            "Epoch 39/50\n",
            "1563/1563 [==============================] - 9s 6ms/step - loss: 0.7909 - accuracy: 0.7362 - val_loss: 1.4491 - val_accuracy: 0.5104\n",
            "Epoch 40/50\n",
            "1563/1563 [==============================] - 9s 6ms/step - loss: 0.7761 - accuracy: 0.7415 - val_loss: 1.3902 - val_accuracy: 0.5328\n",
            "Epoch 41/50\n",
            "1563/1563 [==============================] - 8s 5ms/step - loss: 0.7592 - accuracy: 0.7452 - val_loss: 1.5202 - val_accuracy: 0.4974\n",
            "Epoch 42/50\n",
            "1563/1563 [==============================] - 9s 6ms/step - loss: 0.7474 - accuracy: 0.7517 - val_loss: 1.4863 - val_accuracy: 0.5115\n",
            "Epoch 43/50\n",
            "1563/1563 [==============================] - 9s 6ms/step - loss: 0.7356 - accuracy: 0.7568 - val_loss: 1.3284 - val_accuracy: 0.5497\n",
            "Epoch 44/50\n",
            "1563/1563 [==============================] - 9s 6ms/step - loss: 0.7159 - accuracy: 0.7628 - val_loss: 1.3780 - val_accuracy: 0.5367\n",
            "Epoch 45/50\n",
            "1563/1563 [==============================] - 8s 5ms/step - loss: 0.7042 - accuracy: 0.7659 - val_loss: 1.4472 - val_accuracy: 0.5221\n",
            "Epoch 46/50\n",
            "1563/1563 [==============================] - 9s 6ms/step - loss: 0.6907 - accuracy: 0.7722 - val_loss: 1.3283 - val_accuracy: 0.5545\n",
            "Epoch 47/50\n",
            "1563/1563 [==============================] - 9s 6ms/step - loss: 0.6748 - accuracy: 0.7790 - val_loss: 1.4121 - val_accuracy: 0.5354\n",
            "Epoch 48/50\n",
            "1563/1563 [==============================] - 8s 5ms/step - loss: 0.6621 - accuracy: 0.7831 - val_loss: 1.3266 - val_accuracy: 0.5645\n",
            "Epoch 49/50\n",
            "1563/1563 [==============================] - 8s 5ms/step - loss: 0.6466 - accuracy: 0.7894 - val_loss: 1.4880 - val_accuracy: 0.5268\n",
            "Epoch 50/50\n",
            "1563/1563 [==============================] - 8s 5ms/step - loss: 0.6340 - accuracy: 0.7937 - val_loss: 1.3499 - val_accuracy: 0.5575\n"
          ]
        }
      ]
    },
    {
      "cell_type": "code",
      "source": [
        "predict=model.predict(x_test_final)\n",
        "predict"
      ],
      "metadata": {
        "id": "CFy30WfJWZgB",
        "colab": {
          "base_uri": "https://localhost:8080/"
        },
        "outputId": "39177816-0f3c-45fe-e284-067823bea3a6"
      },
      "execution_count": null,
      "outputs": [
        {
          "output_type": "stream",
          "name": "stdout",
          "text": [
            "313/313 [==============================] - 1s 2ms/step\n"
          ]
        },
        {
          "output_type": "execute_result",
          "data": {
            "text/plain": [
              "array([[3.3224330e-03, 1.9329352e-02, 3.8593464e-02, ..., 1.6646140e-06,\n",
              "        3.2347683e-03, 5.7412189e-04],\n",
              "       [3.3585029e-03, 6.1551388e-02, 1.5280006e-03, ..., 5.8888298e-05,\n",
              "        5.5828285e-01, 3.7484932e-01],\n",
              "       [7.5017947e-01, 3.9295983e-02, 8.2944371e-03, ..., 6.2856367e-03,\n",
              "        1.1238943e-01, 8.1357837e-02],\n",
              "       ...,\n",
              "       [1.0566115e-03, 3.1086963e-04, 7.9004776e-01, ..., 4.3784366e-03,\n",
              "        6.6039478e-03, 1.2723636e-03],\n",
              "       [2.3839254e-02, 1.5184009e-02, 2.1616353e-01, ..., 3.6207479e-03,\n",
              "        2.4312749e-04, 7.9129974e-04],\n",
              "       [2.8184419e-03, 7.0123626e-03, 1.2057094e-01, ..., 3.0232379e-01,\n",
              "        5.2212537e-03, 6.6904617e-03]], dtype=float32)"
            ]
          },
          "metadata": {},
          "execution_count": 9
        }
      ]
    },
    {
      "cell_type": "code",
      "source": [
        "plt.plot(results.history['accuracy'])\n",
        "plt.plot(results.history['val_accuracy'])\n",
        "plt.legend(['Training', 'Validation'])\n",
        "plt.title('Training and Validation losses')\n",
        "plt.xlabel('epoches')\n",
        "plt.ylabel('accuracy')\n"
      ],
      "metadata": {
        "colab": {
          "base_uri": "https://localhost:8080/",
          "height": 312
        },
        "id": "lmjrVNQjfLqN",
        "outputId": "eecf6221-5d62-4a4d-ee94-48a2d204f4bf"
      },
      "execution_count": null,
      "outputs": [
        {
          "output_type": "execute_result",
          "data": {
            "text/plain": [
              "Text(0, 0.5, 'accuracy')"
            ]
          },
          "metadata": {},
          "execution_count": 10
        },
        {
          "output_type": "display_data",
          "data": {
            "text/plain": [
              "<Figure size 432x288 with 1 Axes>"
            ],
            "image/png": "[encoded data removed]"
          },
          "metadata": {
            "needs_background": "light"
          }
        }
      ]
    },
    {
      "cell_type": "code",
      "source": [
        "plt.plot(results.history['loss'])\n",
        "plt.plot(results.history['val_loss'])\n",
        "plt.legend(['Training', 'Validation'])\n",
        "plt.title('Training and Validation losses')\n",
        "plt.xlabel('epoches')\n",
        "plt.ylabel('loss')\n"
      ],
      "metadata": {
        "colab": {
          "base_uri": "https://localhost:8080/",
          "height": 312
        },
        "outputId": "fbc06f13-b980-47c1-e40c-87425cce3bac",
        "id": "6wk1fqDTys0e"
      },
      "execution_count": null,
      "outputs": [
        {
          "output_type": "execute_result",
          "data": {
            "text/plain": [
              "Text(0, 0.5, 'loss')"
            ]
          },
          "metadata": {},
          "execution_count": 11
        },
        {
          "output_type": "display_data",
          "data": {
            "text/plain": [
              "<Figure size 432x288 with 1 Axes>"
            ],
            "image/png": "[encoded data removed]"
          },
          "metadata": {
            "needs_background": "light"
          }
        }
      ]
    }
  ]
}